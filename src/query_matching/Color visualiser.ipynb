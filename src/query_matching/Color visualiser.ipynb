{
 "cells": [
  {
   "cell_type": "code",
   "execution_count": 2,
   "metadata": {},
   "outputs": [
    {
     "data": {
      "text/plain": [
       "<matplotlib.image.AxesImage at 0xe17af98>"
      ]
     },
     "execution_count": 2,
     "metadata": {},
     "output_type": "execute_result"
    },
    {
     "data": {
      "image/png": "[encoded data removed]",
      "text/plain": [
       "<Figure size 432x288 with 1 Axes>"
      ]
     },
     "metadata": {},
     "output_type": "display_data"
    }
   ],
   "source": [
    "#import color_util3\n",
    "import cv2\n",
    "import numpy as np\n",
    "\n",
    "\n",
    "CbinMax = 33\n",
    "Cbinsz = [1+CbinMax/2, CbinMax, CbinMax]\n",
    "Cbins = Cbinsz[0]*Cbinsz[1]*Cbinsz[2]\n",
    "a = np.logspace(np.log(1), np.log(128) , num=1 + CbinMax/2, base=2) - 1.\n",
    "a = 127.*a/a.max()\n",
    "b = a.tolist()\n",
    "b.reverse()\n",
    "b = 127. - np.array(b)\n",
    "r = np.hstack((b, a+128.)).round().astype(np.int).tolist()\n",
    "l1 = np.linspace(0, 255, 1+Cbinsz[0]).tolist()\n",
    "CrangeL=[l1, r, r]\n",
    "\n",
    "def idx_to_lab(Ind):\n",
    "    index = np.unravel_index(Ind,(17,33,33))\n",
    "    li=index[0]\n",
    "    ai=index[1]\n",
    "    bi=index[2]\n",
    "    resultcolor=[(CrangeL[0][li]+CrangeL[0][li+1])/2, (CrangeL[1][ai]+CrangeL[1][ai+1])/2, (CrangeL[2][bi]+CrangeL[2][bi+1])/2 ]\n",
    "    return \"idx_to_lab\", resultcolor\n",
    "\n",
    "def labcolor_to_rgb(labcolor):\n",
    "    mask_img = np.ones((1, 1, 3)) * labcolor\n",
    "    rgbimg = cv2.cvtColor(np.uint8(mask_img), cv2.COLOR_LAB2BGR)\n",
    "    return (rgbimg[0][0][2], rgbimg[0][0][1], rgbimg[0][0][0])\n",
    "    \n",
    "def lab2rgb(Ind):\n",
    "    index = np.unravel_index(Ind, (17, 33, 33))\n",
    "    li = index[0]\n",
    "    ai = index[1]\n",
    "    bi = index[2]\n",
    "    resultcolor = [(self.CrangeL[0][li] + self.CrangeL[0][li + 1]) / 2,\n",
    "                   (self.CrangeL[1][ai] + self.CrangeL[1][ai + 1]) / 2,\n",
    "                    (self.CrangeL[2][bi] + self.CrangeL[2][bi + 1]) / 2]\n",
    "    mask_img = np.ones((1, 1, 3)) * resultcolor\n",
    "    rgbimg = cv2.cvtColor(np.uint8(mask_img), cv2.COLOR_LAB2BGR)\n",
    "    return rgbimg[0][0]\n",
    "\n",
    "def rgb_to_lab(rgbcolor):\n",
    "    color_code_mask = np.ones((1,1,3))*rgbcolor\n",
    "    rgbimg= cv2.cvtColor(np.uint8(color_code_mask),cv2.COLOR_RGB2LAB)\n",
    "    return (rgbimg[0][0][0],rgbimg[0][0][1],rgbimg[0][0][2])\n",
    "\n",
    "%matplotlib inline\n",
    "lab = (240,127,127)\n",
    "x=labcolor_to_rgb(lab)   \n",
    "\n",
    "im = np.ones([5,5,3],dtype=np.uint8)\n",
    "im[:,:,0] = x[0]\n",
    "im[:,:,1] = x[1]\n",
    "im[:,:,2] = x[2]\n",
    "import matplotlib.pyplot as plt\n",
    "plt.imshow(im)\n"
   ]
  },
  {
   "cell_type": "code",
   "execution_count": null,
   "metadata": {
    "collapsed": true
   },
   "outputs": [],
   "source": []
  },
  {
   "cell_type": "code",
   "execution_count": 3,
   "metadata": {},
   "outputs": [
    {
     "name": "stdout",
     "output_type": "stream",
     "text": [
      "x (255, 0, 255)\n"
     ]
    },
    {
     "data": {
      "text/plain": [
       "<matplotlib.image.AxesImage at 0xe0f5ef0>"
      ]
     },
     "execution_count": 3,
     "metadata": {},
     "output_type": "execute_result"
    },
    {
     "data": {
      "image/png": "[encoded data removed]",
      "text/plain": [
       "<Figure size 432x288 with 1 Axes>"
      ]
     },
     "metadata": {},
     "output_type": "display_data"
    }
   ],
   "source": [
    "lab=(238,110,210)\n",
    "x=labcolor_to_rgb(lab)\n",
    "x = (255,0,255)\n",
    "print \"x\", x\n",
    "im = np.ones([5,5,3],dtype=np.uint8)\n",
    "im[:,:,0] = x[0]\n",
    "im[:,:,1] = x[1]\n",
    "im[:,:,2] = x[2]\n",
    "import matplotlib.pyplot as plt\n",
    "plt.imshow(im)"
   ]
  },
  {
   "cell_type": "code",
   "execution_count": 4,
   "metadata": {},
   "outputs": [
    {
     "name": "stdout",
     "output_type": "stream",
     "text": [
      "x (228, 28, 37)\n"
     ]
    },
    {
     "data": {
      "text/plain": [
       "<matplotlib.image.AxesImage at 0xe3a3ef0>"
      ]
     },
     "execution_count": 4,
     "metadata": {},
     "output_type": "execute_result"
    },
    {
     "data": {
      "image/png": "[encoded data removed]",
      "text/plain": [
       "<Figure size 432x288 with 1 Axes>"
      ]
     },
     "metadata": {},
     "output_type": "display_data"
    }
   ],
   "source": [
    "#x=(0,255,255)  \n",
    "x=(228, 28, 37)\n",
    "print \"x\", x\n",
    "im = np.ones([5,5,3],dtype=np.uint8)\n",
    "im[:,:,0] = x[0]\n",
    "im[:,:,1] = x[1]\n",
    "im[:,:,2] = x[2]\n",
    "import matplotlib.pyplot as plt\n",
    "plt.imshow(im)"
   ]
  },
  {
   "cell_type": "code",
   "execution_count": null,
   "metadata": {
    "collapsed": true
   },
   "outputs": [],
   "source": []
  }
 ],
 "metadata": {
  "anaconda-cloud": {},
  "kernelspec": {
   "display_name": "Python 2",
   "language": "python",
   "name": "python2"
  },
  "language_info": {
   "codemirror_mode": {
    "name": "ipython",
    "version": 2
   },
   "file_extension": ".py",
   "mimetype": "text/x-python",
   "name": "python",
   "nbconvert_exporter": "python",
   "pygments_lexer": "ipython2",
   "version": "2.7.15"
  }
 },
 "nbformat": 4,
 "nbformat_minor": 1
}
